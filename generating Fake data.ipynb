{
 "cells": [
  {
   "cell_type": "code",
   "execution_count": 2,
   "id": "e6d05c7d",
   "metadata": {},
   "outputs": [],
   "source": [
    "from faker import Faker"
   ]
  },
  {
   "cell_type": "code",
   "execution_count": 3,
   "id": "bd55569b",
   "metadata": {},
   "outputs": [],
   "source": [
    "fake=Faker()"
   ]
  },
  {
   "cell_type": "code",
   "execution_count": 16,
   "id": "f6b26d6b",
   "metadata": {},
   "outputs": [
    {
     "data": {
      "text/plain": [
       "'Mark Larsen'"
      ]
     },
     "execution_count": 16,
     "metadata": {},
     "output_type": "execute_result"
    }
   ],
   "source": [
    "fake.name()"
   ]
  },
  {
   "cell_type": "code",
   "execution_count": 17,
   "id": "5dde0884",
   "metadata": {},
   "outputs": [
    {
     "data": {
      "text/plain": [
       "'Kristen'"
      ]
     },
     "execution_count": 17,
     "metadata": {},
     "output_type": "execute_result"
    }
   ],
   "source": [
    "fake.first_name_female()"
   ]
  },
  {
   "cell_type": "code",
   "execution_count": 18,
   "id": "4ba30197",
   "metadata": {},
   "outputs": [
    {
     "data": {
      "text/plain": [
       "'shahbryan'"
      ]
     },
     "execution_count": 18,
     "metadata": {},
     "output_type": "execute_result"
    }
   ],
   "source": [
    "fake.user_name()"
   ]
  },
  {
   "cell_type": "code",
   "execution_count": 19,
   "id": "94ca660e",
   "metadata": {},
   "outputs": [
    {
     "data": {
      "text/plain": [
       "'@6ChqK$xm2'"
      ]
     },
     "execution_count": 19,
     "metadata": {},
     "output_type": "execute_result"
    }
   ],
   "source": [
    "fake.password()"
   ]
  },
  {
   "cell_type": "code",
   "execution_count": 20,
   "id": "50edb0b1",
   "metadata": {},
   "outputs": [
    {
     "data": {
      "text/plain": [
       "'11'"
      ]
     },
     "execution_count": 20,
     "metadata": {},
     "output_type": "execute_result"
    }
   ],
   "source": [
    "fake.month()"
   ]
  },
  {
   "cell_type": "code",
   "execution_count": 21,
   "id": "20d7a2a0",
   "metadata": {},
   "outputs": [
    {
     "data": {
      "text/plain": [
       "310"
      ]
     },
     "execution_count": 21,
     "metadata": {},
     "output_type": "execute_result"
    }
   ],
   "source": [
    "len(dir(fake))"
   ]
  },
  {
   "cell_type": "code",
   "execution_count": null,
   "id": "d000d72f",
   "metadata": {},
   "outputs": [],
   "source": []
  }
 ],
 "metadata": {
  "kernelspec": {
   "display_name": "Python 3",
   "language": "python",
   "name": "python3"
  },
  "language_info": {
   "codemirror_mode": {
    "name": "ipython",
    "version": 3
   },
   "file_extension": ".py",
   "mimetype": "text/x-python",
   "name": "python",
   "nbconvert_exporter": "python",
   "pygments_lexer": "ipython3",
   "version": "3.8.8"
  }
 },
 "nbformat": 4,
 "nbformat_minor": 5
}
